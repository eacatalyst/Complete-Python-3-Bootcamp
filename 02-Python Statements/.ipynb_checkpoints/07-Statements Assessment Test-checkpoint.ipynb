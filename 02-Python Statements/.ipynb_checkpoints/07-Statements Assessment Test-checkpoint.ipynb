{
 "cells": [
  {
   "cell_type": "markdown",
   "metadata": {
    "collapsed": true
   },
   "source": [
    "# Statements Assessment Test\n",
    "Let's test your knowledge!"
   ]
  },
  {
   "cell_type": "markdown",
   "metadata": {},
   "source": [
    "_____\n",
    "**Use <code>for</code>, .split(), and <code>if</code> to create a Statement that will print out words that start with 's':**"
   ]
  },
  {
   "cell_type": "code",
   "execution_count": 2,
   "metadata": {},
   "outputs": [],
   "source": [
    "st = 'Print only the words that start with s in this sentence'"
   ]
  },
  {
   "cell_type": "code",
   "execution_count": 5,
   "metadata": {},
   "outputs": [
    {
     "name": "stdout",
     "output_type": "stream",
     "text": [
      "start\n",
      "s\n",
      "sentence\n"
     ]
    }
   ],
   "source": [
    "#Code here\n",
    "\n",
    "for word in st.split():\n",
    "    if word[0] == 's':\n",
    "        print(word)"
   ]
  },
  {
   "cell_type": "markdown",
   "metadata": {},
   "source": [
    "______\n",
    "**Use range() to print all the even numbers from 0 to 10.**"
   ]
  },
  {
   "cell_type": "code",
   "execution_count": 9,
   "metadata": {},
   "outputs": [
    {
     "name": "stdout",
     "output_type": "stream",
     "text": [
      "0\n",
      "2\n",
      "4\n",
      "6\n",
      "8\n",
      "10\n"
     ]
    }
   ],
   "source": [
    "#Code Here\n",
    "for num in range(0,11):\n",
    "    if num % 2 == 0:\n",
    "        print(num)"
   ]
  },
  {
   "cell_type": "markdown",
   "metadata": {},
   "source": [
    "___\n",
    "**Use a List Comprehension to create a list of all numbers between 1 and 50 that are divisible by 3.**"
   ]
  },
  {
   "cell_type": "code",
   "execution_count": null,
   "metadata": {},
   "outputs": [],
   "source": [
    "#Code in this cell\n",
    "[]"
   ]
  },
  {
   "cell_type": "markdown",
   "metadata": {},
   "source": [
    "_____\n",
    "**Go through the string below and if the length of a word is even print \"even!\"**"
   ]
  },
  {
   "cell_type": "code",
   "execution_count": 10,
   "metadata": {},
   "outputs": [],
   "source": [
    "st = 'Print every word in this sentence that has an even number of letters'"
   ]
  },
  {
   "cell_type": "code",
   "execution_count": 14,
   "metadata": {},
   "outputs": [
    {
     "name": "stdout",
     "output_type": "stream",
     "text": [
      "word\n",
      "in\n",
      "this\n",
      "sentence\n",
      "that\n",
      "an\n",
      "even\n",
      "number\n",
      "of\n"
     ]
    }
   ],
   "source": [
    "#Code in this cell\n",
    "for word in st.split():\n",
    "    if len(word) % 2 == 0:\n",
    "        print(word)"
   ]
  },
  {
   "cell_type": "markdown",
   "metadata": {},
   "source": [
    "____\n",
    "**Write a program that prints the integers from 1 to 100. But for multiples of three print \"Fizz\" instead of the number, and for the multiples of five print \"Buzz\". For numbers which are multiples of both three and five print \"FizzBuzz\".**"
   ]
  },
  {
   "cell_type": "code",
   "execution_count": 26,
   "metadata": {},
   "outputs": [
    {
     "name": "stdout",
     "output_type": "stream",
     "text": [
      "2 Buzz\n",
      "3 Fizz\n",
      "4 Buzz\n",
      "6 Fizz\n",
      "8 Buzz\n",
      "9 Fizz\n",
      "10 Buzz\n",
      "12 Fizz\n",
      "14 Buzz\n",
      "15 FizzBuzz\n",
      "15 Fizz\n",
      "16 Buzz\n",
      "18 Fizz\n",
      "20 Buzz\n",
      "21 Fizz\n",
      "22 Buzz\n",
      "24 Fizz\n",
      "26 Buzz\n",
      "27 Fizz\n",
      "28 Buzz\n",
      "30 FizzBuzz\n",
      "30 Fizz\n",
      "32 Buzz\n",
      "33 Fizz\n",
      "34 Buzz\n",
      "36 Fizz\n",
      "38 Buzz\n",
      "39 Fizz\n",
      "40 Buzz\n",
      "42 Fizz\n",
      "44 Buzz\n",
      "45 FizzBuzz\n",
      "45 Fizz\n",
      "46 Buzz\n",
      "48 Fizz\n",
      "50 Buzz\n",
      "51 Fizz\n",
      "52 Buzz\n",
      "54 Fizz\n",
      "56 Buzz\n",
      "57 Fizz\n",
      "58 Buzz\n",
      "60 FizzBuzz\n",
      "60 Fizz\n",
      "62 Buzz\n",
      "63 Fizz\n",
      "64 Buzz\n",
      "66 Fizz\n",
      "68 Buzz\n",
      "69 Fizz\n",
      "70 Buzz\n",
      "72 Fizz\n",
      "74 Buzz\n",
      "75 FizzBuzz\n",
      "75 Fizz\n",
      "76 Buzz\n",
      "78 Fizz\n",
      "80 Buzz\n",
      "81 Fizz\n",
      "82 Buzz\n",
      "84 Fizz\n",
      "86 Buzz\n",
      "87 Fizz\n",
      "88 Buzz\n",
      "90 FizzBuzz\n",
      "90 Fizz\n",
      "92 Buzz\n",
      "93 Fizz\n",
      "94 Buzz\n",
      "96 Fizz\n",
      "98 Buzz\n",
      "99 Fizz\n",
      "100 Buzz\n"
     ]
    }
   ],
   "source": [
    "#Code in this cell\n",
    "for num in range(1,101):\n",
    "    if (num % 3 == 0 and num % 5 == 0):\n",
    "        print(num, \"FizzBuzz\")\n",
    "    if num % 3 == 0:\n",
    "        print(num, \"Fizz\")\n",
    "    elif num % 2 == 0:\n",
    "        print(num, \"Buzz\")\n"
   ]
  },
  {
   "cell_type": "markdown",
   "metadata": {},
   "source": [
    "____\n",
    "**Use List Comprehension to create a list of the first letters of every word in the string below:**"
   ]
  },
  {
   "cell_type": "code",
   "execution_count": null,
   "metadata": {},
   "outputs": [],
   "source": [
    "st = 'Create a list of the first letters of every word in this string'"
   ]
  },
  {
   "cell_type": "code",
   "execution_count": null,
   "metadata": {},
   "outputs": [],
   "source": [
    "#Code in this cell"
   ]
  },
  {
   "cell_type": "markdown",
   "metadata": {},
   "source": [
    "### Great Job!"
   ]
  }
 ],
 "metadata": {
  "kernelspec": {
   "display_name": "Python 3",
   "language": "python",
   "name": "python3"
  },
  "language_info": {
   "codemirror_mode": {
    "name": "ipython",
    "version": 3
   },
   "file_extension": ".py",
   "mimetype": "text/x-python",
   "name": "python",
   "nbconvert_exporter": "python",
   "pygments_lexer": "ipython3",
   "version": "3.7.0"
  }
 },
 "nbformat": 4,
 "nbformat_minor": 1
}
